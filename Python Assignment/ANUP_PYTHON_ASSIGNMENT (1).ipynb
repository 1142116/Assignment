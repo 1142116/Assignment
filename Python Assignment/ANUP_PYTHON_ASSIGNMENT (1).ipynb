{
 "cells": [
  {
   "cell_type": "code",
   "execution_count": 5,
   "id": "b09e3eb5-e95a-44fb-a6cc-105a3655b25d",
   "metadata": {},
   "outputs": [
    {
     "data": {
      "text/plain": [
       "\"\\nthere are many different types of aplication such as\\n1. Web application - run's  on web browser\\n   example like google\\n2. Mobile applications- Run's on mobile device\\n   example like snapchat\\n3. Gaming applications-  to play games in device\\n    exaexample like bgmi and mincraft\\n\""
      ]
     },
     "execution_count": 5,
     "metadata": {},
     "output_type": "execute_result"
    }
   ],
   "source": [
    "#(1)What are the types of Applications\n",
    "\"\"\"\n",
    "there are many different types of aplication such as\n",
    "1. Web application - run's  on web browser\n",
    "   example like google\n",
    "2. Mobile applications- Run's on mobile device\n",
    "   example like snapchat\n",
    "3. Gaming applications-  to play games in device\n",
    "    exaexample like bgmi and mincraft\n",
    "\"\"\""
   ]
  },
  {
   "cell_type": "code",
   "execution_count": 6,
   "id": "ea9f671a-c395-4406-be80-8a25f970776d",
   "metadata": {},
   "outputs": [
    {
     "data": {
      "text/plain": [
       "'\\nprogramming is a set of instructions \\nwhere we give some certain instructions to a computer so we can get a outcome that we want\\n\\n'"
      ]
     },
     "execution_count": 6,
     "metadata": {},
     "output_type": "execute_result"
    }
   ],
   "source": [
    "#(2)What is programing? \n",
    "\"\"\"\n",
    "programming is a set of instructions \n",
    "where we give some certain instructions to a computer so we can get a outcome that we want\n",
    "\n",
    "\"\"\"\n"
   ]
  },
  {
   "cell_type": "code",
   "execution_count": null,
   "id": "517ebc70-36ef-4f3e-8d7b-c525175670f6",
   "metadata": {},
   "outputs": [],
   "source": [
    "#(3)What is Python?\n",
    "\"\"\"\n",
    "Python is an interpreted, object-oriented and high-level programming \n",
    "language \n",
    "created by Guido van Rossum in 1991 \n",
    "\n",
    "\"\"\"\n"
   ]
  },
  {
   "cell_type": "code",
   "execution_count": null,
   "id": "8470bbff-6690-433c-8574-16f5aab3059b",
   "metadata": {},
   "outputs": [],
   "source": [
    "#(4)Write a Python program to check if a number is positive, negative or zero.\n",
    "num= int(input(\"enter a number to check\"))\n",
    "if num>0:\n",
    "    print(\"the number:\",num,\" is positive \")\n",
    "elif num<0:\n",
    "    print(\"the number:\",num,\" is negative \")\n",
    "else:\n",
    "    print(\"the number:\",num,\" is zero \")\n"
   ]
  },
  {
   "cell_type": "code",
   "execution_count": 7,
   "id": "b28ccfe8-631d-4665-aa50-346a6d5383f0",
   "metadata": {},
   "outputs": [
    {
     "name": "stdin",
     "output_type": "stream",
     "text": [
      "enter number to make a factorial 5\n"
     ]
    },
    {
     "name": "stdout",
     "output_type": "stream",
     "text": [
      "facctorial of 5 is : 120\n"
     ]
    }
   ],
   "source": [
    "#(5)Write a Python program to get the Factorial number of given numbers. \n",
    "a=int(input(\"enter number to make a factorial\"))\n",
    "factorial=1\n",
    "if a<0 :\n",
    "    print(\"invalid\")\n",
    "elif a==0:\n",
    "    print(\"Factorial fo\",a,\" = 1\")\n",
    "else :\n",
    "    for i in range(1, a+1):\n",
    "        factorial= factorial*i\n",
    "    print(\"facctorial of\",a,\"is :\",factorial)"
   ]
  },
  {
   "cell_type": "code",
   "execution_count": 9,
   "id": "d67723b6-f1e3-44e5-9b81-d0d1513dfd52",
   "metadata": {},
   "outputs": [
    {
     "name": "stdin",
     "output_type": "stream",
     "text": [
      "How many terms?  5\n"
     ]
    },
    {
     "name": "stdout",
     "output_type": "stream",
     "text": [
      "Fibonacci sequence:\n",
      "0\n",
      "1\n",
      "1\n",
      "2\n",
      "3\n"
     ]
    }
   ],
   "source": [
    "# (6)Write a Python program to get the Fibonacci series of given range. \n",
    "        \n",
    "nterms = int(input(\"How many terms? \"))\n",
    "\n",
    "n1, n2 = 0, 1\n",
    "count = 0\n",
    "\n",
    "if nterms <= 0:\n",
    "    print(\"Please enter a positive integer\")\n",
    "elif nterms == 1:\n",
    "    print(\"Fibonacci sequence up to\", nterms, \":\")\n",
    "    print(n1)\n",
    "else:\n",
    "    print(\"Fibonacci sequence:\")\n",
    "    while count < nterms:\n",
    "        print(n1)\n",
    "        nth = n1 + n2\n",
    "        n1 = n2\n",
    "        n2 = nth\n",
    "        count += 1\n"
   ]
  },
  {
   "cell_type": "code",
   "execution_count": null,
   "id": "40ecfc17-e217-4199-b4c5-da755d12b3cf",
   "metadata": {},
   "outputs": [],
   "source": [
    "# 7) How memory is managed in Python? \n",
    "\"\"\" \n",
    "*Reference Counting: Python keeps track of the number of references to an object.\n",
    "  When the reference count reaches zero, the object is deallocated.\n",
    "*Garbage Collection: Python periodically runs a garbage collector to identify objects\n",
    "  that are no longer referenced and deallocates their memory.\"\"\""
   ]
  },
  {
   "cell_type": "code",
   "execution_count": null,
   "id": "66698d82-47c1-426f-8d46-6991b2ffb2ee",
   "metadata": {},
   "outputs": [],
   "source": [
    "#8)What is the purpose continuing statement in python? \n",
    "\"\"\"\n",
    "When a certain condition is met, you can use continue to skip the rest of the code in the current iteration \n",
    "  and move on to the next iteration.\n",
    "\"\"\"\n"
   ]
  },
  {
   "cell_type": "code",
   "execution_count": 10,
   "id": "311e72dd-4c47-4f33-b68d-ba240a9bd57d",
   "metadata": {},
   "outputs": [
    {
     "name": "stdout",
     "output_type": "stream",
     "text": [
      "swapping with temp variabe\n",
      "\n",
      "before swapping \n",
      " a: 2 b: 5\n",
      "after swapping\n",
      " a: 5 b: 2\n",
      "\n",
      "swapping without temp\n",
      "a: 20 b: 10\n"
     ]
    }
   ],
   "source": [
    "# 9)nWrite python program that swap two number with temp variable and without temp variable. \n",
    "print(\"swapping with temp variabe\")\n",
    "print()\n",
    "a=2\n",
    "b=5\n",
    "print(\"before swapping \\n a:\",a ,\"b:\",b)\n",
    "temp=a\n",
    "a=b\n",
    "b=temp\n",
    "print(\"after swapping\\n a:\",a,\"b:\",b)\n",
    "print()\n",
    "print(\"swapping without temp\")\n",
    "a=10\n",
    "b=20\n",
    "a, b = b, a\n",
    "print(\"a:\",a,\"b:\", b)\n"
   ]
  },
  {
   "cell_type": "code",
   "execution_count": null,
   "id": "882adf2b-5df1-40ea-8043-9fae39e467d0",
   "metadata": {},
   "outputs": [],
   "source": [
    "# 10) Write a Python program to find whether a given number is even or odd, print out an appropriate message to the user. \n",
    "anup=int(input(\"Enter a number \"))\n",
    "if anup / 2==0:\n",
    "    print(\"the number\",anup,\" is even\")\n",
    "else:\n",
    "    print(\"the number\",anup,\" is odd\")"
   ]
  },
  {
   "cell_type": "code",
   "execution_count": 50,
   "id": "e7430e07-6070-4f2a-9e0d-a9730fec3a88",
   "metadata": {},
   "outputs": [
    {
     "name": "stdin",
     "output_type": "stream",
     "text": [
      "enter a character to check it's a vowel or not 5\n"
     ]
    },
    {
     "name": "stdout",
     "output_type": "stream",
     "text": [
      "the character 5 is not a vowel\n"
     ]
    }
   ],
   "source": [
    "# 11) Write a Python program to test whether a passed letter is a vowel or not. \n",
    "anup=input(\"enter a character to check it's a vowel or not\")\n",
    "if anup in \"aeiuo\":\n",
    "    print(\"the character\",anup,\"is a vowel\")\n",
    "else :\n",
    "    print(\"the character\",anup,\"is not a vowel\")"
   ]
  },
  {
   "cell_type": "code",
   "execution_count": null,
   "id": "544e5f94-d4d3-4fe0-9973-28cf027c61f7",
   "metadata": {},
   "outputs": [],
   "source": [
    "# 12) Write a Python program to sum of three given integers. However, if two values are equal sum will be zero. \n",
    "a=int(input(\"enter first num\"))\n",
    "b=int(input(\"enter second num\"))\n",
    "c=int(input(\"enter third num\"))\n",
    "\n",
    "if a==b or b==c or c==b:\n",
    "    print(\"the sum of three value is 0\")\n",
    "else:\n",
    "    print(e:= \"the of three value is:\",a+b+c)"
   ]
  },
  {
   "cell_type": "code",
   "execution_count": null,
   "id": "43b9ad9b-6bcc-4bb2-97f0-a162b78897c3",
   "metadata": {},
   "outputs": [],
   "source": [
    "#13) Write a Python program that will return true if the two given integer values are equal or their sum or difference is 5. \n",
    "a=int(input(\"enter first num\"))\n",
    "b=int(input(\"enter second num\"))\n",
    "\n",
    "print(a==b or a+b== 5 or abs(a-b)== 5)"
   ]
  },
  {
   "cell_type": "code",
   "execution_count": null,
   "id": "d40570bf-a40c-46d0-a027-adc9de7226bc",
   "metadata": {},
   "outputs": [],
   "source": [
    "# 14)Write a python program to sum of the first n positive integers. \n",
    "n = int(input(\"Enter a positive integer: \"))\n",
    "sum = n*(n+1)// 2\n",
    "\n",
    "print(\"The sum of the first\", n, \"positive integers is:\", sum)"
   ]
  },
  {
   "cell_type": "code",
   "execution_count": null,
   "id": "0b8eddc8-e35b-4eba-963c-f64022a43757",
   "metadata": {},
   "outputs": [],
   "source": [
    "#15)Write a Python program to calculate the length of a string.\n",
    "a=input(\"enter your string to check lenght\")\n",
    "print(len(a))"
   ]
  },
  {
   "cell_type": "code",
   "execution_count": 11,
   "id": "20c03b48-7603-4117-a226-a75576b29176",
   "metadata": {},
   "outputs": [
    {
     "name": "stdin",
     "output_type": "stream",
     "text": [
      "Enter String 5\n"
     ]
    },
    {
     "name": "stdout",
     "output_type": "stream",
     "text": [
      "{'5': 1}\n"
     ]
    }
   ],
   "source": [
    "#16) Write a Python program to count the number of characters (character frequency) in a string\n",
    "str=input(\"Enter String\")\n",
    "l=list(str)\n",
    "freq=[l.count(ele) for ele in l]\n",
    "d=dict(zip(l, freq))\n",
    "print(d)"
   ]
  },
  {
   "cell_type": "code",
   "execution_count": null,
   "id": "a7dd9b86-6697-47d9-9c3c-64bae0382a60",
   "metadata": {},
   "outputs": [],
   "source": [
    "# 17)What are negative indexes and why are they used?\n",
    "'''\n",
    "When you use a negative index Python counts from the end of the sequence instead of the beginning.\n",
    "it's used to making it easy to get the last element (using -1) \n",
    "example\n",
    "  '''\n",
    "a=('anup')\n",
    "a[-1]"
   ]
  },
  {
   "cell_type": "code",
   "execution_count": null,
   "id": "5abe343b-2bbb-4318-9fbd-ddd1545474ca",
   "metadata": {},
   "outputs": [],
   "source": [
    "# 18)Write a Python program to count occurrences of a substring in a string.\n",
    "string = input(\"Enter a string: \")\n",
    "substring = input(\"Enter a substring: \")\n",
    "\n",
    "count = 0\n",
    "for i in range(len(string)):\n",
    "    if string[i:i+len(substring)] == substring:\n",
    "        count +=1\n",
    "print(\"The substring\", substring,\"appears \",count,\" times in the string.\")"
   ]
  },
  {
   "cell_type": "code",
   "execution_count": null,
   "id": "ad1007a5-2b8c-4fcd-8838-9ea807b7013b",
   "metadata": {},
   "outputs": [],
   "source": [
    "#19) Write a Python program to count the occurrences of each word in  given sentence\n",
    "string = input(\"Enter a string: \")\n",
    "word = input(\"Enter a word: \")\n",
    "count = 0\n",
    "for i in range(len(string)):\n",
    "    if string[i:i+len(word)] == word:\n",
    "        count +=1\n",
    "print(\"The word \",word,\" appears \",count,\"times in the string.\")"
   ]
  },
  {
   "cell_type": "code",
   "execution_count": 13,
   "id": "1d5a1ace-5b08-410f-be41-7ccbd1d6df30",
   "metadata": {},
   "outputs": [
    {
     "name": "stdin",
     "output_type": "stream",
     "text": [
      "Enter the first string:  sn\n",
      "Enter the second string:  up\n"
     ]
    },
    {
     "name": "stdout",
     "output_type": "stream",
     "text": [
      "up sn\n"
     ]
    }
   ],
   "source": [
    "# 20) Write a Python program to get a single string from two given strings, separated by a space and swap the first two characters of each string. \n",
    "\n",
    "s1 = input(\"Enter the first string: \")\n",
    "s2 = input(\"Enter the second string: \")\n",
    "\n",
    "s1_first_two = s1[:2]\n",
    "s2_first_two = s2[:2]\n",
    "s1_rest = s1[2:]\n",
    "s2_rest = s2[2:]\n",
    "    \n",
    "result1 = s2_first_two + s1_rest\n",
    "result2 = s1_first_two + s2_rest\n",
    "print(result1,result2)\n"
   ]
  },
  {
   "cell_type": "code",
   "execution_count": 15,
   "id": "6a2d5292-be5e-4ea0-9f2e-b928d23da5da",
   "metadata": {},
   "outputs": [
    {
     "name": "stdin",
     "output_type": "stream",
     "text": [
      "enter your string ssing\n"
     ]
    },
    {
     "name": "stdout",
     "output_type": "stream",
     "text": [
      "ssingly\n"
     ]
    }
   ],
   "source": [
    "'''21) Write a Python program to add 'in' at the end of a given string (length \n",
    "should be at least 3). If the given string already ends with 'ing' then \n",
    "add 'ly' instead if the string length of the given string is less than 3, \n",
    "leave it unchanged.'''\n",
    "\n",
    "\n",
    "str=input(\"enter your string\")\n",
    "if len(str)<3:\n",
    "    print(str)\n",
    "elif str.endswith(\"ing\"):\n",
    "    print(str+\"ly\")\n",
    "else:\n",
    "    print(str+'in')\n",
    "    "
   ]
  },
  {
   "cell_type": "code",
   "execution_count": null,
   "id": "d126da9a-cadb-4ae9-a718-f87ee946e651",
   "metadata": {},
   "outputs": [],
   "source": [
    "# 22) Write a Python function to reverses a string if its length is a multiple of 4.\n",
    "s=(input(\"enter a string : \"))\n",
    "if len(s) % 4 == 0:\n",
    "    reversed_s = s[::-1]\n",
    "    print(reversed_s)\n",
    "else:\n",
    "    print(s)"
   ]
  },
  {
   "cell_type": "code",
   "execution_count": null,
   "id": "448bc7ff-3126-4470-96e3-13c6f0478474",
   "metadata": {},
   "outputs": [],
   "source": [
    "'''23) Write a Python program to get a string made of the first 2 and the last \n",
    "2 chars from a given a string. If the string length is less than 2, return \n",
    "instead of the empty string. '''\n",
    "\n",
    "s = input(\"Enter a string: \")\n",
    "if len(s) < 2:\n",
    "    print(\"    empty string \")\n",
    "else:\n",
    "    \n",
    "    first_two = s[0:2]\n",
    "    last_two = s[-2:]\n",
    "    result = first_two + last_two\n",
    "    print(\"The string made of the first 2 and last 2 characters is:\", result)"
   ]
  },
  {
   "cell_type": "code",
   "execution_count": null,
   "id": "36deec61-c580-49ce-9d96-b02b5717c9fc",
   "metadata": {},
   "outputs": [],
   "source": [
    "# 24)Write a Python function to insert a string in the middle of a string.\n",
    "string=input(\"enter a string\")\n",
    "insert_str=input(\"enter a string\")\n",
    "midlle = len(string) // 2\n",
    "result= string[0:midlle]+insert_str+string[midlle:]\n",
    "print(result)"
   ]
  },
  {
   "cell_type": "code",
   "execution_count": null,
   "id": "27aa4978-d3d8-4166-ade7-a202f7ef8526",
   "metadata": {},
   "outputs": [],
   "source": [
    "#25)What is List? How will you reverse a list?\n",
    "'''list is a collection of items that can be of any data type including strings, integers, floats, '''\n",
    "#example\n",
    "list01=['apple','samsung','berry']\n",
    "print(list01)\n",
    "\n",
    "#reverse list\n",
    "list01.reverse()\n",
    "print(list01)"
   ]
  },
  {
   "cell_type": "code",
   "execution_count": null,
   "id": "9fe5c069-58dd-4f7a-82b3-e00f873d4a97",
   "metadata": {},
   "outputs": [],
   "source": [
    "# 26)How will you remove last object from a list?\n",
    "anup=['car','bike','plane','truck']\n",
    "print('before remove',anup)\n",
    "# after remove\n",
    "anup.pop()\n",
    "print('after remove',anup)"
   ]
  },
  {
   "cell_type": "code",
   "execution_count": null,
   "id": "a8a895f4-30eb-472a-a5d3-16bf3f299477",
   "metadata": {},
   "outputs": [],
   "source": [
    "# 27)Suppose list1 is [2, 33, 222, 14, and 25], what is list1 [-1]? \n",
    "list1 = [2, 33, 222, 14, 25]\n",
    "'''-1 is a last element of any list'''\n",
    "print(list1[-1])"
   ]
  },
  {
   "cell_type": "code",
   "execution_count": null,
   "id": "8a8f2b68-9ace-421f-a81a-696953403772",
   "metadata": {},
   "outputs": [],
   "source": [
    "# 28)Differentiate between append () and extend () methods? \n",
    "'''both append() and extend() are methods used to add elements to a list, but\n",
    "append() used to add one element but in extend() we can add multiple elements in list'''\n",
    "\n",
    "'''append()'''\n",
    "a=[1,2,3]\n",
    "a.append(4)\n",
    "print(a)\n",
    "'''extend'''\n",
    "a.extend([5,6,7,8,9])\n",
    "print(a)"
   ]
  },
  {
   "cell_type": "code",
   "execution_count": null,
   "id": "e67f2f03-d3a0-473c-a43c-9c2b6e61828e",
   "metadata": {},
   "outputs": [],
   "source": [
    "#29) Write a Python function to get the largest number, smallest num and sum of all from a list.\n",
    "anup=[9955,1000,9548,4]\n",
    "largest = max(anup)\n",
    "samll=min(anup)\n",
    "total =sum(anup)\n",
    "print(\"largest number:\",largest,\" smallest num :\",samll ,\"sum of all:\",total)\n"
   ]
  },
  {
   "cell_type": "code",
   "execution_count": null,
   "id": "32a20cf2-4e38-4830-a40e-c711d2e355ef",
   "metadata": {},
   "outputs": [],
   "source": [
    "# 30)How will you compare two lists?\n",
    "# we can compare lists like this\n",
    "a=['banana','apple','cheryy']\n",
    "b=['banana','apple','cheryy']\n",
    "if a==b:\n",
    "    print(\"both are same\")\n",
    "else:\n",
    "    print(\"both are not same\")"
   ]
  },
  {
   "cell_type": "code",
   "execution_count": null,
   "id": "45821db3-2a4b-4c23-b04e-0812061e9ded",
   "metadata": {},
   "outputs": [],
   "source": [
    "'''31) Write a Python program to count the number of strings where the string \n",
    "length is 2 or more and the first and last character are same from a given list \n",
    "of strings.'''\n",
    "str=['apple','banana','olo','abcde','abababa','toyota','coroc','abba']\n",
    "count=0\n",
    "\n",
    "for s in str:\n",
    "    if len(s) >= 2 and s[0] == s[-1]:\n",
    "        count += 1\n",
    "print(\"answer is:\",count)"
   ]
  },
  {
   "cell_type": "code",
   "execution_count": null,
   "id": "8a31192d-fc55-4a28-9b2f-6126c389ae39",
   "metadata": {},
   "outputs": [],
   "source": [
    "# 32)Write a Python program to remove duplicates from a list. \n",
    "a=[5,4,4,4,9,9,8,8,7,7,7,1,2,3,4,5,6,7,8,9]\n",
    "unique_list = []\n",
    "\n",
    "for item in a:\n",
    "    if item not in unique_list:\n",
    "        unique_list.append(item)\n",
    "unique_list.sort()\n",
    "print(\"List after removing duplicates:\", unique_list)"
   ]
  },
  {
   "cell_type": "code",
   "execution_count": null,
   "id": "a6550447-96e8-451c-95fb-c6160d6fc7db",
   "metadata": {},
   "outputs": [],
   "source": [
    "# 33)Write a Python program to check a list is empty or not. \n",
    "a=[4484,55584,4884585,4854854,0]\n",
    "b=[]\n",
    "if a==0:\n",
    "    print(\"list is empty\")\n",
    "else:\n",
    "    print(\"list is not empty:\",a)\n",
    "#taking empty one\n",
    "if b==0:\n",
    "    print(\"list is empty\")\n",
    "else:\n",
    "    print(\"list is not empty:\",b)"
   ]
  },
  {
   "cell_type": "code",
   "execution_count": null,
   "id": "95204c67-fca7-4089-a2fc-033fe994286b",
   "metadata": {},
   "outputs": [],
   "source": [
    "'''34) Write a Python function that takes two lists and returns true if they \n",
    "have at least one common member.'''\n",
    "a=['bmw','audi','merc','toyota','honda','nano']\n",
    "b=['bmw','summer','winter','monsun']\n",
    "common = False\n",
    "for i in a:\n",
    "    if i in b:\n",
    "        common = True\n",
    "        break\n",
    "print( common_member_found)"
   ]
  },
  {
   "cell_type": "code",
   "execution_count": null,
   "id": "a0d142ac-7247-4633-b6d2-0fef4f3ec750",
   "metadata": {},
   "outputs": [],
   "source": [
    "'''35) Write a Python program to generate and print a list of first and last 5 \n",
    "elements where the values are square of numbers between 1 and 30. '''\n",
    "\n",
    "squares_list = [x**2 for x in range(1, 31)]\n",
    "first_5_elements = squares_list[:5]\n",
    "last_5_elements = squares_list[-5:]\n",
    "\n",
    "print(\"First 5 elements:\", first_5_elements)\n",
    "print(\"Last 5 elements:\", last_5_elements)"
   ]
  },
  {
   "cell_type": "code",
   "execution_count": null,
   "id": "60f88778-2ca2-48ce-9c1d-bdcfaecb4d8f",
   "metadata": {},
   "outputs": [],
   "source": [
    "# '''36) Write a Python function that takes a list and returns a new list with \n",
    "# unique elements of the first list. '''\n",
    "\n",
    "a=['anup','anup','mihir','jay' ]\n",
    "unique_list = []\n",
    "\n",
    "for item in a:\n",
    "    if item not in unique_list:\n",
    "        unique_list.append(item)\n",
    "unique_list.sort()\n",
    "print(\"List after removing duplicates:\", unique_list)\n"
   ]
  },
  {
   "cell_type": "code",
   "execution_count": null,
   "id": "2645b6b6-abb6-4ee5-94c5-8b9faf96dd27",
   "metadata": {},
   "outputs": [],
   "source": [
    "# 37)Write a Python program to convert a list of characters into a string. \n",
    "list = ['a', 'n', 'u', 'p', ' ', 'u', 'm', 'r', 'e', 'k', 'a','r']\n",
    "a = ''.join(list)\n",
    "print(a)\n"
   ]
  },
  {
   "cell_type": "code",
   "execution_count": null,
   "id": "1ac6f1ce-90dd-42ad-bbd5-80f3dfe51e61",
   "metadata": {},
   "outputs": [],
   "source": [
    "# 38)Write a Python program to select an item randomly from a list. \n",
    "import random\n",
    "fruit=['banana','apple','pineaaple','dragon','ironman']\n",
    "item = random.choice(fruit)\n",
    "print(item)"
   ]
  },
  {
   "cell_type": "code",
   "execution_count": null,
   "id": "1181e95b-fbd3-4022-bead-4bb4735532ae",
   "metadata": {},
   "outputs": [],
   "source": [
    "# 39)Write a Python program to find the second smallest number in a list. \n",
    "anup=[55,8,96,214,100,200,56,1]\n",
    "anup.sort()\n",
    "small2=anup[1]\n",
    "print(small2)"
   ]
  },
  {
   "cell_type": "code",
   "execution_count": null,
   "id": "a86e5529-cb34-40e9-aa45-87c14223508d",
   "metadata": {},
   "outputs": [],
   "source": [
    "# 40)Write a Python program to get unique values from a list\n",
    "abc = [1, 2, 2, 3, 4, 4, 5, 6, 6]\n",
    "unique_values = list(set(abc))\n",
    "print(unique_values)"
   ]
  },
  {
   "cell_type": "code",
   "execution_count": null,
   "id": "353c91ca-0aae-4754-bc9d-95e126e3c38e",
   "metadata": {},
   "outputs": [],
   "source": [
    "#41)Write a Python program to check whether a list contains a sub list \n",
    "anup=['anup','eric',[5,6,4],'aman','gaurav']\n",
    "for i in anup:\n",
    "    if len(i)>1:\n",
    "         print(\"sub list is present\")\n",
    "         break \n",
    "else:\n",
    "    print('no sub string')"
   ]
  },
  {
   "cell_type": "code",
   "execution_count": null,
   "id": "9a733833-c6e9-4724-bc40-20f7b4fd44be",
   "metadata": {},
   "outputs": [],
   "source": [
    "#42)Write a Python program to split a list into different variables. \n",
    "anup=[5,4,1,2,1,44,55]\n",
    "a,b,c,d,e,f,g=anup\n",
    "print('a:',a)\n",
    "print('b:',b)\n",
    "print('c:',c)\n",
    "print('d:',d)\n",
    "print('e:',e)\n",
    "print('f:',f)\n",
    "print(\"g:\",g)"
   ]
  },
  {
   "cell_type": "code",
   "execution_count": null,
   "id": "533ec04f-9a53-4e3e-a868-02ece3125919",
   "metadata": {},
   "outputs": [],
   "source": [
    "#43) What is tuple? Difference between list and tuple.\n",
    " '''a tuple is a collection of objects that can be of any data type, including strings, integers, floats,\n",
    " tuple is immutable (can't change tha value after save) thats a difference in tuple from list'''"
   ]
  },
  {
   "cell_type": "code",
   "execution_count": null,
   "id": "0a24e145-9d68-4c5e-be73-d8e1eb753881",
   "metadata": {},
   "outputs": [],
   "source": [
    "# 44)Write a Python program to create a tuple with different data types\n",
    "anup=(\"tuple\", False, 3.2, 1)\n",
    "\n",
    "print(anup)\n",
    "print(type(anup))"
   ]
  },
  {
   "cell_type": "code",
   "execution_count": null,
   "id": "d3f3cf48-4244-412d-9f71-ea00b75929b2",
   "metadata": {},
   "outputs": [],
   "source": [
    "# 45)Write a Python program to unzip a list of tuples into individual lists\n",
    "tuples_list = [(1, 'u', 'a'), (2, 'm', 'n'), (3, 'a', 'u'), (4, 'k', 'p')]\n",
    "anup1,anup2,anup3 = zip(*tuples_list)\n",
    "\n",
    "print(\"List 1:\", anup1)\n",
    "print(\"List 2:\", anup2)\n",
    "print(\"List 3:\", anup3)"
   ]
  },
  {
   "cell_type": "code",
   "execution_count": null,
   "id": "f05b0e60-d4ff-4068-9a21-cc1ec1642278",
   "metadata": {},
   "outputs": [],
   "source": [
    "# 46)Write a Python program to convert a list of tuples into a dictionary. \n",
    "tuples_list = [(1,'a',), (2,'n'), (3,'u'), (4,'p')]\n",
    "dcintionry=dict(tuples_list)\n",
    "print(dcintionry)"
   ]
  },
  {
   "cell_type": "code",
   "execution_count": null,
   "id": "5bd3f80e-4bb3-4bfb-adaf-6894ab334739",
   "metadata": {},
   "outputs": [],
   "source": [
    "# 47)How will you create a dictionary using tuples in python? \n",
    "tuples = (('a', 1), ('b', 2), ('c', 3), ('d', 4))\n",
    "my_dict = dict(tuples)\n",
    "print(my_dict)"
   ]
  },
  {
   "cell_type": "code",
   "execution_count": 16,
   "id": "ecc2ea6e-00ef-4e0b-bb22-966e33a4bd67",
   "metadata": {},
   "outputs": [
    {
     "name": "stdout",
     "output_type": "stream",
     "text": [
      "Sorted dictionary by value in ascending order:\n",
      "{'date': 1, 'banana': 2, 'apple': 5, 'elderberry': 6, 'cherry': 8}\n",
      "\n",
      "Sorted dictionary by value in descending order:\n",
      "{'cherry': 8, 'elderberry': 6, 'apple': 5, 'banana': 2, 'date': 1}\n"
     ]
    }
   ],
   "source": [
    "# 48)Write a Python script to sort (ascending and descending) a dictionary by value. \n",
    "# Define the sample dictionary\n",
    "d = {'apple': 5, 'banana': 2, 'cherry': 8, 'date': 1, 'elderberry': 6}\n",
    "\n",
    "sorted_d_asc = dict(sorted(d.items(), key=lambda item: item[1]))\n",
    "print(\"Sorted dictionary by value in ascending order:\")\n",
    "print(sorted_d_asc)\n",
    "\n",
    "sorted_d_desc = dict(sorted(d.items(), key=lambda item: item[1], reverse=True))\n",
    "print(\"\\nSorted dictionary by value in descending order:\")\n",
    "print(sorted_d_desc)\n"
   ]
  },
  {
   "cell_type": "code",
   "execution_count": null,
   "id": "d165ad88-636c-4642-a115-01cc70aa2981",
   "metadata": {},
   "outputs": [],
   "source": [
    "# 49)Write a Python script to concatenate following dictionaries to create a new one. \n",
    "\n",
    "dict1 = {'a': 1, 'b': 2, 'c': 3}\n",
    "dict2 = {'d': 4, 'e': 5, 'f': 6}\n",
    "\n",
    "a_dict = dict1.copy()\n",
    "a_dict.update(dict2)\n",
    "print(\"New dictionary:\")\n",
    "print(a_dict)"
   ]
  },
  {
   "cell_type": "code",
   "execution_count": null,
   "id": "079f684d-aa7c-4a10-9fd0-8a4148b6c062",
   "metadata": {},
   "outputs": [],
   "source": [
    "# 50)Write a Python script to check if a given key already exists in a dictionary. \n",
    "d = {'a': 1, 'b': 2, 'c': 3}\n",
    "key_to_check = input(\"enter key\")\n",
    "if key_to_check in d.keys():\n",
    "    print(key_to_check,\" exists in the dictionary.\")\n",
    "else:\n",
    "    print(key_to_check, \" not exist in the dictionary.\")\n"
   ]
  },
  {
   "cell_type": "code",
   "execution_count": null,
   "id": "b7a7b821-e1cc-4c2b-b02d-621d121a8d1c",
   "metadata": {},
   "outputs": [],
   "source": [
    "# 51)How Do You Traverse Through a Dictionary Object in Python? \n",
    "d = {'a': 1, 'b': 2, 'c': 3}\n",
    "for key in d:\n",
    "    print(key)"
   ]
  },
  {
   "cell_type": "code",
   "execution_count": null,
   "id": "f1481418-a261-40bc-9196-5083729c61a0",
   "metadata": {},
   "outputs": [],
   "source": [
    "# 52)How Do You Check the Presence of a Key in A Dictionary? \n",
    "d = {'a': 1, 'b': 2, 'c': 3}\n",
    "key = input(\"enter key\")\n",
    "if d.get(key) is not None:\n",
    "    print(key,\" exists in the dictionary.\")\n",
    "else:\n",
    "    print(key, \" not exist in the dictionary.\")"
   ]
  },
  {
   "cell_type": "code",
   "execution_count": null,
   "id": "f596ab85-a12c-407a-9b20-0b4e50be8acf",
   "metadata": {},
   "outputs": [],
   "source": [
    "# 53)Write a Python script to print a dictionary where the keys are numbers between 1 and 15. \n",
    "d = {}\n",
    "for i in range(1, 16):  \n",
    "    d[i] = i ** 2 \n",
    "print(d)"
   ]
  },
  {
   "cell_type": "code",
   "execution_count": null,
   "id": "14a3d31f-901e-4459-b75e-ab9336353943",
   "metadata": {},
   "outputs": [],
   "source": [
    "# 54)Write a Python program to check multiple keys exists in a dictionary \n",
    "d = {'a': 1, 'b': 2, 'c': 3, 'd': 4, 'e': 5}\n",
    "\n",
    "keys_to_check = ['a', 'c', 'e']\n",
    "\n",
    "if set(keys_to_check).issubset(d.keys()):\n",
    "    print(\"All keys exist in the dictionary.\")\n",
    "else:\n",
    "    print(\"Not all keys exist in the dictionary.\")\n",
    "\n",
    "keys_to_check = ['a', 'c', 'f']\n",
    "\n",
    "if set(keys_to_check).issubset(d.keys()):\n",
    "    print(\"All keys exist in the dictionary.\")\n",
    "else:\n",
    "    print(\"Not all keys exist in the dictionary.\")"
   ]
  },
  {
   "cell_type": "code",
   "execution_count": null,
   "id": "36e815fc-fba1-4ba3-b832-338abb036a58",
   "metadata": {},
   "outputs": [],
   "source": [
    "# 55)Write a Python script to merge two Python dictionaries \n",
    "dict1 = {'a': 1, 'b': 2, 'c': 3}\n",
    "dict2 = {'d': 4, 'e': 5, 'f': 6}\n",
    "dict1.update(dict2)\n",
    "\n",
    "print(\"Merged Dictionary:\",dict1)\n"
   ]
  },
  {
   "cell_type": "code",
   "execution_count": null,
   "id": "d7e4cf08-9b55-429f-9381-a2324544a9b9",
   "metadata": {},
   "outputs": [],
   "source": [
    "'''56)Write a Python program to map two lists into a dictionary \n",
    "Sample output: Counter ({'a': 400, 'b': 400,’d’: 400, 'c': 300}).'''\n",
    "keys = ['a','b','c','d',]\n",
    "values = [400,400,400,300]\n",
    "d = dict(zip(keys, values))\n",
    "print(\"Mapped dictionary:\")\n",
    "print(d)\n"
   ]
  },
  {
   "cell_type": "code",
   "execution_count": null,
   "id": "4405728a-8c7b-41b2-b460-d11f238110ba",
   "metadata": {},
   "outputs": [],
   "source": [
    "# 57)Write a Python program to find the highest 3 values in a dictionary\n",
    "d = {'a': 400, 'b': 400, 'd': 400, 'c': 300, 'e': 200, 'f': 500}\n",
    "\n",
    "highest_three = sorted(d.values(), reverse=True)[:3]\n",
    "print(\"Highest 3 values:\",highest_three)\n"
   ]
  },
  {
   "cell_type": "code",
   "execution_count": null,
   "id": "8897a616-1aef-4025-baeb-4db664e22981",
   "metadata": {},
   "outputs": [],
   "source": [
    "'''58)Write a Python program to combine values in python list of dictionaries. \n",
    "Sample data: [{'item': 'item1', 'amount': 400}, {'item': 'item2', 'amount': \n",
    "300}, o {'item': 'item1', 'amount': 750}] \n",
    "Expected Output:\n",
    "• Counter ({'item1': 1150, 'item2': 300})'''\n",
    "\n",
    "\n",
    "data = [\n",
    "    {'item': 'item1', 'amount': 400},\n",
    "    {'item': 'item2', 'amount': 300},\n",
    "    {'item': 'item1', 'amount': 750}]\n",
    "combined = {}\n",
    "\n",
    "for entry in data:\n",
    "    item = entry['item']\n",
    "    amount = entry['amount']\n",
    "    if item in combined:\n",
    "        combined[item] += amount\n",
    "    else:\n",
    "        combined[item] = amount\n",
    "print(\"Counter ({})\".format(combined))"
   ]
  },
  {
   "cell_type": "code",
   "execution_count": null,
   "id": "eaa809bf-7c59-497e-bd64-04af93015ef4",
   "metadata": {},
   "outputs": [],
   "source": [
    "'''59)Write a Python program to create a dictionary from a string. \n",
    "Note: Track the count of the letters from the string.'''\n",
    "input_string = \"anup umak\"\n",
    "letter_count = {}\n",
    "for char in input_string:\n",
    "    if char.isalpha():\n",
    "        char = char.lower()\n",
    "        if char in letter_count:\n",
    "            letter_count[char] += 1\n",
    "        else:\n",
    "            letter_count[char] = 1\n",
    "\n",
    "print(\"Letter count dictionary:\",letter_count)\n"
   ]
  },
  {
   "cell_type": "code",
   "execution_count": null,
   "id": "6e899b35-2c2e-4add-9fae-d0b90d377bfc",
   "metadata": {},
   "outputs": [],
   "source": [
    "'''60)Sample string:\n",
    " 'w3resource' Expected output:\n",
    "• {'3': 1,’s’: 1, 'r': 2, 'u': 1, 'w': 1, 'c': 1, 'e': 2, 'o': 1}'''\n",
    "input_string = \"w3resource\"\n",
    "letter_count = {}\n",
    "for char in input_string:\n",
    "    if char:\n",
    "        char = char.lower()\n",
    "        if char in letter_count:\n",
    "            letter_count[char] += 1\n",
    "        else:\n",
    "            letter_count[char] = 1\n",
    "\n",
    "print(\"Letter count dictionary:\",letter_count)"
   ]
  },
  {
   "cell_type": "code",
   "execution_count": 17,
   "id": "064d7da8-1c3c-4ea1-8dfc-2656a81b1b6d",
   "metadata": {},
   "outputs": [
    {
     "name": "stdout",
     "output_type": "stream",
     "text": [
      "24\n"
     ]
    }
   ],
   "source": [
    "# 61)Write a Python function to calculate the factorial of a number (a nonnegative integer) \n",
    "def factorial(n):\n",
    "    result = 1\n",
    "    for i in range(1, n+1):\n",
    "        result *= i\n",
    "    return result\n",
    "\n",
    "\n",
    "print(factorial(4))  "
   ]
  },
  {
   "cell_type": "code",
   "execution_count": null,
   "id": "257c406d-f54c-432b-9df4-e7b5798326d5",
   "metadata": {},
   "outputs": [],
   "source": [
    "# 62)Write a Python function to check whether a number is in a given range \n",
    "def range():\n",
    "    num = int(input(\"Enter a number: \"))\n",
    "    start = int(input(\"Enter the start of the range: \"))\n",
    "    end = int(input(\"Enter the end of the range: \"))\n",
    "\n",
    "    if start <= num <= end:\n",
    "        print(num ,\"is in the range\" ,start, end)\n",
    "    else:\n",
    "        print(num ,\"is not in the range\" ,start, end)\n"
   ]
  },
  {
   "cell_type": "code",
   "execution_count": 24,
   "id": "688bc84f-4a0f-4dc5-bf8d-9cc732a07633",
   "metadata": {},
   "outputs": [
    {
     "name": "stdout",
     "output_type": "stream",
     "text": [
      "True\n",
      "False\n"
     ]
    }
   ],
   "source": [
    "# 63)Write a Python function to check whether a number is perfect or not.\n",
    "def is_perfect(n):\n",
    "    sum = 0\n",
    "    for i in range(1, n):\n",
    "        if n % i == 0:\n",
    "            sum += i\n",
    "    return sum == n\n",
    "    \n",
    "print(is_perfect(6)) \n",
    "print(is_perfect(12)) "
   ]
  },
  {
   "cell_type": "code",
   "execution_count": null,
   "id": "ec6bf65e-6e91-417d-b90b-358e8cda6a89",
   "metadata": {},
   "outputs": [],
   "source": [
    "# 64)Write a Python function that checks whether a passed string is palindrome or not\n",
    "def palindrome(anup):\n",
    "    anup= anup.lower()\n",
    "    anup = ''.join(c for c in anup if c.isalnum())\n",
    "    return anup == anup[::-1]\n",
    "\n",
    "print(palindrome(\"madam\"))  \n",
    "print(palindrome(\"anup\")) "
   ]
  },
  {
   "cell_type": "code",
   "execution_count": null,
   "id": "cc516de8-1c9d-4493-b423-d4975c0e8263",
   "metadata": {},
   "outputs": [],
   "source": [
    "# 65)How Many Basic Types of Functions Are Available in Python?\n",
    "'''Functions in python\n",
    "# User definde function - \n",
    "functions  that we define ourselves to do certain spesefic task,\n",
    "example[checkevenodd]\n",
    "#buil-in function -\n",
    "function that come built into the python language istself and are readily available to us\n",
    "example[print()]\n",
    "'''"
   ]
  },
  {
   "cell_type": "code",
   "execution_count": null,
   "id": "98df30fc-f5de-4e98-9686-39e1bcc99b97",
   "metadata": {},
   "outputs": [],
   "source": [
    "# 66)How can you pick a random item from a list or tuple? \n",
    "import random\n",
    "\n",
    "my_list = ['anup','iron man','batman']\n",
    "print('choise from list:',random.choice(my_list))\n",
    "\n",
    "my_tuple = ('bmw','audi','porcha')\n",
    "print('choise from tuple:',random.choice(my_tuple))"
   ]
  },
  {
   "cell_type": "code",
   "execution_count": null,
   "id": "f9b82cad-6b89-4109-abc6-ad722c139dfe",
   "metadata": {},
   "outputs": [],
   "source": [
    "# 67)How can you pick a random item from a range? \n",
    "start =int(input(\"num1\"))\n",
    "end = int(input(\"num2\"))\n",
    "print('picked:',random.randint(start, end))"
   ]
  },
  {
   "cell_type": "code",
   "execution_count": null,
   "id": "31d62a14-26b0-464c-aba9-1e76e72c38e4",
   "metadata": {},
   "outputs": [],
   "source": [
    "# 68)How can you get a random number in python? \n",
    "\n",
    "num = random.randint(1, 10)\n",
    "print(num)"
   ]
  },
  {
   "cell_type": "code",
   "execution_count": null,
   "id": "d635a372-58a7-450e-9d3f-15bd49a460a7",
   "metadata": {},
   "outputs": [],
   "source": [
    "# 69)How will you set the starting value in generating random numbers? \n",
    "\n",
    "random.seed(42)\n",
    "\n",
    "print(random.randint(1, 10))  \n",
    "print(random.randint(1, 10))   \n",
    "print(random.randint(1, 10))"
   ]
  },
  {
   "cell_type": "code",
   "execution_count": null,
   "id": "2b16ab10-9695-4d2d-8d50-6de420e48107",
   "metadata": {},
   "outputs": [],
   "source": [
    "# 70) How will you randomize the items of a list in place? \n",
    "my_list = [1, 2, 3, 4, 5]\n",
    "print(\"Original list:\", my_list)\n",
    "random.shuffle(my_list)\n",
    "print(\"Randomized list:\", my_list)"
   ]
  },
  {
   "cell_type": "code",
   "execution_count": 12,
   "id": "4bab29a0-f87d-41c1-be47-5f6a66f04a1b",
   "metadata": {},
   "outputs": [],
   "source": [
    "# 71)What is File function in python? What are keywords to create and write file. '\n",
    "# Keywords to create and write a file:\n",
    "# pen()\n",
    "# 'r' :  reading.\n",
    "# 'w' :  writing .\n",
    "# 'a' : Append. \n",
    "# 'b' : Binary mode \n",
    "# 'x' : Exclusive creation\n",
    "\n",
    "# Open a file in write mode\n",
    "file = open(\"anup.txt\", \"w\")\n",
    "file.write(\"Hello, im anup!\")\n",
    "file.close()\n"
   ]
  },
  {
   "cell_type": "code",
   "execution_count": 13,
   "id": "3be8c613-9116-422c-b3db-c73b4095f49d",
   "metadata": {},
   "outputs": [
    {
     "name": "stdout",
     "output_type": "stream",
     "text": [
      "Hello, im anup!\n"
     ]
    },
    {
     "data": {
      "text/plain": [
       "<function TextIOWrapper.close()>"
      ]
     },
     "execution_count": 13,
     "metadata": {},
     "output_type": "execute_result"
    }
   ],
   "source": [
    "# 72)Write a Python program to read an entire text file.\n",
    "file= open(\"anup.txt\", \"r\") \n",
    "data = file.read()\n",
    "print(data)  \n",
    "file.close"
   ]
  },
  {
   "cell_type": "code",
   "execution_count": 14,
   "id": "c2349dd1-242b-4d63-83cc-e13a0ad89231",
   "metadata": {},
   "outputs": [
    {
     "data": {
      "text/plain": [
       "'Hello, im anup!heheheheh\\nhhihihi'"
      ]
     },
     "execution_count": 14,
     "metadata": {},
     "output_type": "execute_result"
    }
   ],
   "source": [
    "# 73)Write a Python program to append text to a file and display the text.\n",
    "file= open(\"anup.txt\", \"a\")\n",
    "data = file.write('heheheheh\\nhhihihi')\n",
    "\n",
    "file.close\n",
    "file=open(\"anup.txt\")\n",
    "file.read()\n",
    "    "
   ]
  },
  {
   "cell_type": "code",
   "execution_count": 16,
   "id": "d8729ae5-e974-4e15-8313-fdc9ecb2540a",
   "metadata": {},
   "outputs": [
    {
     "name": "stdout",
     "output_type": "stream",
     "text": [
      "Hello, im anup!\n",
      "\n"
     ]
    }
   ],
   "source": [
    "# 74)Write a Python program to read first n lines of a file. \n",
    "file=open('anup.txt','r')\n",
    "file.seek(0)\n",
    "print(file.readline())\n"
   ]
  },
  {
   "cell_type": "code",
   "execution_count": 6,
   "id": "388944be-a67f-43fd-9895-7ea322a52b4d",
   "metadata": {},
   "outputs": [
    {
     "name": "stdout",
     "output_type": "stream",
     "text": [
      "hihohooh\n"
     ]
    }
   ],
   "source": [
    "# 75)Write a Python program to read last n lines of a file. \n",
    "file=open(\"anup.txt\", \"r\")\n",
    "line=file.readlines()\n",
    "\n",
    "last=line[-1:]\n",
    "for i in last:\n",
    "    print(i)\n",
    "file.close()"
   ]
  },
  {
   "cell_type": "code",
   "execution_count": 9,
   "id": "7a786c20-65dd-4afd-a661-3b190dfad3ed",
   "metadata": {},
   "outputs": [
    {
     "name": "stdout",
     "output_type": "stream",
     "text": [
      "['Hello, im anup!\\n', 'heheheheh\\n', 'hhihihi\\n', 'hihohooh']\n"
     ]
    }
   ],
   "source": [
    "# 76)Write a Python program to read a file line by line and store it into a list \n",
    "file=open(\"anup.txt\", \"r\")\n",
    "print(file.readlines())\n"
   ]
  },
  {
   "cell_type": "code",
   "execution_count": 1,
   "id": "bec4ce83-f1b8-4836-b8fb-b676698773f8",
   "metadata": {},
   "outputs": [
    {
     "name": "stdout",
     "output_type": "stream",
     "text": [
      "['Hello, im anup!\\n', 'heheheheh\\n', 'hhihihiheheheheh\\n', 'hhihihiheheheheh\\n', 'hhihihiheheheheh\\n', 'hhihihiheheheheh\\n', 'hhihihiheheheheh\\n', 'hhihihi']\n"
     ]
    }
   ],
   "source": [
    " # 77)Write a Python program to read a file line by line store it into a variable. \n",
    "file=open(\"anup.txt\", \"r\")\n",
    "lines=file.readlines()\n",
    "print(lines)"
   ]
  },
  {
   "cell_type": "code",
   "execution_count": 2,
   "id": "c3b30ebf-8992-491e-85d3-276f1e243bdc",
   "metadata": {},
   "outputs": [
    {
     "name": "stdin",
     "output_type": "stream",
     "text": [
      "Enter a sentence:  anup is good guy\n"
     ]
    },
    {
     "name": "stdout",
     "output_type": "stream",
     "text": [
      "The longest word is: anup\n"
     ]
    }
   ],
   "source": [
    "#78)Write a python program to find the longest words. \n",
    "anup = input(\"Enter a sentence: \")\n",
    "words = anup.split()\n",
    "\n",
    "long = \"\"\n",
    "max = 0\n",
    "\n",
    "for word in words:\n",
    "    if len(word) > max:\n",
    "        max = len(word)\n",
    "        long = word\n",
    "print(\"The longest word is:\",long)"
   ]
  },
  {
   "cell_type": "code",
   "execution_count": 3,
   "id": "518b64c5-a393-444c-acf0-8b1f018e5c3c",
   "metadata": {},
   "outputs": [
    {
     "name": "stdout",
     "output_type": "stream",
     "text": [
      "The file has 8 lines.\n"
     ]
    }
   ],
   "source": [
    "# 79)Write a Python program to count the number of lines in a text file. \n",
    "file = open(\"anup.txt\", \"r\")\n",
    "line_count = 0\n",
    "for line in file:\n",
    "    line_count += 1\n",
    "file.close()\n",
    "print(\"The file has\", line_count, \"lines.\")"
   ]
  },
  {
   "cell_type": "code",
   "execution_count": 8,
   "id": "9f70c7e2-f348-41ef-b46f-4b7270e722e0",
   "metadata": {},
   "outputs": [
    {
     "name": "stdout",
     "output_type": "stream",
     "text": [
      "Word Frequencies:\n",
      "hello, 1\n",
      "im 1\n",
      "anup! 1\n",
      "heheheheh 1\n",
      "hhihihiheheheheh 5\n",
      "hhihihi 1\n"
     ]
    }
   ],
   "source": [
    "# 80)Write a Python program to count the frequency of words in a file\n",
    "\n",
    "file = open(\"anup.txt\", \"r\")\n",
    "text = file.read()\n",
    "file.close()\n",
    "\n",
    "words = text.split()\n",
    "word_freq = {}\n",
    "for word in words:\n",
    "    word = word.lower()\n",
    "    if word in word_freq:\n",
    "        word_freq[word] += 1\n",
    "    else:\n",
    "        word_freq[word] = 1\n",
    "print(\"Word Frequencies:\")\n",
    "for word, freq in word_freq.items():\n",
    "    print(word,freq)"
   ]
  },
  {
   "cell_type": "code",
   "execution_count": 10,
   "id": "76e737c5-1d6e-4c8d-a0b1-48d12e0e1bbf",
   "metadata": {},
   "outputs": [
    {
     "name": "stdout",
     "output_type": "stream",
     "text": [
      "List written to file!\n"
     ]
    }
   ],
   "source": [
    "# 81)Write a Python program to write a list to a file. \n",
    "cars = [\"macqueen\", \"mecor\", \"sela\", \"meter\", \"anupjr\"]\n",
    "file = open(\"cara.txt\", \"w\")\n",
    "a=file.write\n",
    "for car in cars:\n",
    "    file.write(car + \"\\n\")\n",
    "    \n",
    "file.close()\n",
    "\n",
    "print(\"List written to file!\")"
   ]
  },
  {
   "cell_type": "code",
   "execution_count": 23,
   "id": "d4d20ac2-f2fd-4c0e-b3a4-3e96a681041c",
   "metadata": {},
   "outputs": [
    {
     "name": "stdout",
     "output_type": "stream",
     "text": [
      "File copied successfully!\n"
     ]
    }
   ],
   "source": [
    "# 82)Write a Python program to copy the contents of a file to another file. \n",
    "anup=open(\"f1.txt\",'w')\n",
    "anup.write(\"hi im anup im doing assignment\")\n",
    "source_file = open(\"f1.txt\", \"r\")\n",
    "destination_file = open(\"f2.txt\", \"w\")\n",
    "source_contents = source_file.read()\n",
    "destination_file.write(source_contents)\n",
    "source_file.close()\n",
    "destination_file.close()\n",
    "\n",
    "print(\"File copied successfully!\")"
   ]
  },
  {
   "cell_type": "code",
   "execution_count": 27,
   "id": "2c177491-a794-4c1d-a37a-829787a263bb",
   "metadata": {},
   "outputs": [
    {
     "name": "stdout",
     "output_type": "stream",
     "text": [
      "Error: Cannot divide by zero!\n"
     ]
    }
   ],
   "source": [
    "# 83)Explain Exception handling? What is an Error in Python? \n",
    "'''Exception handling is a mechanism in Python that allows you to detect,\n",
    "and respond to errors or unexpected events that occur during the execution of your program. '''\n",
    "#example\n",
    "try:\n",
    "    x = 5 / 0\n",
    "except ZeroDivisionError:\n",
    "    print(\"Error: Cannot divide by zero!\")\n",
    "else:\n",
    "    print('result',x)\n",
    "# tyep of error\n",
    "#Syntax errors: Errors in the syntax of the code, \n",
    "#Runtime errors: Errors that occur during the execution of the code.\n",
    "#Logic errors: Errors in the logic of the code, such as infinite loops or incorrect algorithm implementation.\n"
   ]
  },
  {
   "cell_type": "code",
   "execution_count": 28,
   "id": "ef4238dd-f924-4801-9ac6-b186a09a610e",
   "metadata": {},
   "outputs": [
    {
     "name": "stdout",
     "output_type": "stream",
     "text": [
      "Division successful! Result: 2.5\n"
     ]
    }
   ],
   "source": [
    "# 85)When will the else part of try-except-else be executed? \n",
    "'''when a error doesn't occurs in code '''\n",
    "#example\n",
    "try:\n",
    "    x = 5 / 2  \n",
    "except ZeroDivisionError:\n",
    "    print(\"Error: Cannot divide by zero!\")\n",
    "else:\n",
    "    print(\"Division successful! Result:\", x)  "
   ]
  },
  {
   "cell_type": "code",
   "execution_count": 29,
   "id": "4d18e917-dbbf-4b07-9c3d-83b64ddfc020",
   "metadata": {},
   "outputs": [
    {
     "name": "stdout",
     "output_type": "stream",
     "text": [
      "An error occurred!\n"
     ]
    }
   ],
   "source": [
    "# 86)Can one block of except statements handle multiple exception? \n",
    "'''Yes one block of except statements can handle multiple exceptions. just add coma(,) and done'''\n",
    "#example\n",
    "try:\n",
    "    # code that might raise an exception\n",
    "    x = 5 / 0\n",
    "except (ZeroDivisionError, TypeError, ValueError):\n",
    "    print(\"An error occurred!\")"
   ]
  },
  {
   "cell_type": "code",
   "execution_count": null,
   "id": "57e3a5b2-a946-4eb8-8794-e96495ec3f74",
   "metadata": {},
   "outputs": [],
   "source": [
    "# 87)When is the finally block executed? \n",
    "'''if an exception is raised in the try block and not caught by any except block,\n",
    "the finally block will still be executed '''\n",
    "# example\n",
    "try:\n",
    "    x = 5 / 2  \n",
    "finally:\n",
    "    print(\"Finally block executed!\")  "
   ]
  },
  {
   "cell_type": "code",
   "execution_count": 52,
   "id": "61f294c2-4945-4200-88c9-4e456ef52f07",
   "metadata": {},
   "outputs": [
    {
     "ename": "SyntaxError",
     "evalue": "invalid syntax. Perhaps you forgot a comma? (457867009.py, line 4)",
     "output_type": "error",
     "traceback": [
      "\u001b[1;36m  Cell \u001b[1;32mIn[52], line 4\u001b[1;36m\u001b[0m\n\u001b[1;33m    print(''1'' == 1)\u001b[0m\n\u001b[1;37m          ^\u001b[0m\n\u001b[1;31mSyntaxError\u001b[0m\u001b[1;31m:\u001b[0m invalid syntax. Perhaps you forgot a comma?\n"
     ]
    }
   ],
   "source": [
    "# 88)What happens when „1‟== 1 is executed? \n",
    "'''When „1‟ == 1 is executed in Python, it evaluates to False. \n",
    "This is because the string \"1\" is not equal to the integer 1'''\n",
    "print(''1'' == 1) #it will give error"
   ]
  },
  {
   "cell_type": "code",
   "execution_count": 31,
   "id": "d55dd2e0-0755-4e5e-bc52-38e483d8de80",
   "metadata": {},
   "outputs": [
    {
     "name": "stdout",
     "output_type": "stream",
     "text": [
      "Error: Cannot divide by zero!\n",
      "Finally, I'm done!\n"
     ]
    }
   ],
   "source": [
    "# 89)How Do You Handle Exceptions with Try/Except/Finally in Python? Explain with coding snippets. \n",
    "try:\n",
    "    ''' Risky code that might raise an exception'''\n",
    "    x = 5 / 0\n",
    "except ZeroDivisionError:\n",
    "    '''here the ZeroDivisionError exception'''\n",
    "    print(\"Error: Cannot divide by zero!\")\n",
    "finally:\n",
    "    ''' Always execute this code, if here erroe happens'''\n",
    "    print(\"Finally, I'm done!\")"
   ]
  },
  {
   "cell_type": "code",
   "execution_count": 49,
   "id": "0d06d111-323d-4c10-98ca-d4947a754187",
   "metadata": {},
   "outputs": [
    {
     "name": "stdin",
     "output_type": "stream",
     "text": [
      "Enter an odd number:  4\n"
     ]
    },
    {
     "name": "stdout",
     "output_type": "stream",
     "text": [
      "The number is not odd. Please enter an odd number.\n"
     ]
    },
    {
     "name": "stdin",
     "output_type": "stream",
     "text": [
      "Enter an odd number:  4\n"
     ]
    },
    {
     "name": "stdout",
     "output_type": "stream",
     "text": [
      "The number is not odd. Please enter an odd number.\n"
     ]
    },
    {
     "name": "stdin",
     "output_type": "stream",
     "text": [
      "Enter an odd number:  4\n"
     ]
    },
    {
     "name": "stdout",
     "output_type": "stream",
     "text": [
      "The number is not odd. Please enter an odd number.\n"
     ]
    },
    {
     "name": "stdin",
     "output_type": "stream",
     "text": [
      "Enter an odd number:  2\n"
     ]
    },
    {
     "name": "stdout",
     "output_type": "stream",
     "text": [
      "The number is not odd. Please enter an odd number.\n"
     ]
    },
    {
     "name": "stdin",
     "output_type": "stream",
     "text": [
      "Enter an odd number:  3\n"
     ]
    },
    {
     "name": "stdout",
     "output_type": "stream",
     "text": [
      "Thank you! You entered the odd number  3\n"
     ]
    }
   ],
   "source": [
    "# 90)Write python program that user to enter only odd numbers, else will raise an exception.\n",
    "class NotOddNumberError(Exception):\n",
    "   \n",
    "    pass\n",
    "while True:\n",
    "    user = int(input(\"Enter an odd number: \"))\n",
    "    \n",
    "    try:\n",
    "        number = int(user)\n",
    "        if number % 2 == 0:\n",
    "            raise NotOddNumberError(\"The number is not odd. Please enter an odd number.\")\n",
    "        print(\"Thank you! You entered the odd number \",number)\n",
    "        break\n",
    "        \n",
    "\n",
    "    except ValueError:\n",
    "        print(\"Invalid input. Please enter a valid number.\")\n",
    "    \n",
    "    except NotOddNumberError as e:\n",
    "        print(e)\n",
    "\n"
   ]
  },
  {
   "cell_type": "code",
   "execution_count": null,
   "id": "a893c66b-1c91-4c8e-bd2c-bfe95e6dcf74",
   "metadata": {},
   "outputs": [],
   "source": []
  },
  {
   "cell_type": "code",
   "execution_count": null,
   "id": "aebc0016-2da8-449b-a724-968d42f22f67",
   "metadata": {},
   "outputs": [],
   "source": []
  },
  {
   "cell_type": "code",
   "execution_count": null,
   "id": "b038d589-ed3e-422e-8676-e4af47536ef8",
   "metadata": {},
   "outputs": [],
   "source": []
  },
  {
   "cell_type": "code",
   "execution_count": null,
   "id": "bfc8357c-ed13-4f80-a307-d26d3b6164dd",
   "metadata": {},
   "outputs": [],
   "source": []
  },
  {
   "cell_type": "code",
   "execution_count": null,
   "id": "8ac6e249-9227-47e8-b842-6258235852d5",
   "metadata": {},
   "outputs": [],
   "source": []
  },
  {
   "cell_type": "code",
   "execution_count": null,
   "id": "7f86a9e7-3ca6-4ad1-a02f-30d4a38974c1",
   "metadata": {},
   "outputs": [],
   "source": []
  },
  {
   "cell_type": "code",
   "execution_count": null,
   "id": "9d822c6f-1559-4fe2-a448-71192f20a91e",
   "metadata": {},
   "outputs": [],
   "source": []
  },
  {
   "cell_type": "code",
   "execution_count": null,
   "id": "0c5856c2-e265-4b7c-bfdf-6430cfb8ada8",
   "metadata": {},
   "outputs": [],
   "source": []
  },
  {
   "cell_type": "code",
   "execution_count": null,
   "id": "e536eb88-d3e2-43aa-97ff-ee6162ad0016",
   "metadata": {},
   "outputs": [],
   "source": []
  },
  {
   "cell_type": "code",
   "execution_count": null,
   "id": "8480fdd4-212f-4827-9857-fd5dacab196c",
   "metadata": {},
   "outputs": [],
   "source": []
  },
  {
   "cell_type": "code",
   "execution_count": null,
   "id": "c3a3d6a8-4a96-4a32-8619-538405f629fa",
   "metadata": {},
   "outputs": [],
   "source": []
  },
  {
   "cell_type": "code",
   "execution_count": null,
   "id": "8040ec73-33d0-4dd8-9e83-abb4e041a461",
   "metadata": {},
   "outputs": [],
   "source": []
  },
  {
   "cell_type": "code",
   "execution_count": null,
   "id": "29900588-8001-4d80-89af-8e6d159a295f",
   "metadata": {},
   "outputs": [],
   "source": []
  },
  {
   "cell_type": "code",
   "execution_count": null,
   "id": "92a7e142-ecc2-4582-a59c-a0ed0e6867f5",
   "metadata": {},
   "outputs": [],
   "source": []
  },
  {
   "cell_type": "code",
   "execution_count": null,
   "id": "6c8f56a3-1b1f-48ad-8248-f20a698f14ff",
   "metadata": {},
   "outputs": [],
   "source": []
  },
  {
   "cell_type": "code",
   "execution_count": null,
   "id": "9175cdc8-8dba-43fa-af27-028cd8e1cba3",
   "metadata": {},
   "outputs": [],
   "source": []
  },
  {
   "cell_type": "code",
   "execution_count": null,
   "id": "08fbf0ba-c7e4-4893-95e4-01c48b18b55c",
   "metadata": {},
   "outputs": [],
   "source": []
  },
  {
   "cell_type": "code",
   "execution_count": null,
   "id": "8b17aca3-3fa5-4fdf-8c42-20deb90e90f6",
   "metadata": {},
   "outputs": [],
   "source": []
  },
  {
   "cell_type": "code",
   "execution_count": null,
   "id": "ab131978-2ec5-42eb-b856-09561970f12e",
   "metadata": {},
   "outputs": [],
   "source": []
  },
  {
   "cell_type": "code",
   "execution_count": null,
   "id": "82b83acc-254a-429c-a428-564afb2f1885",
   "metadata": {},
   "outputs": [],
   "source": []
  },
  {
   "cell_type": "code",
   "execution_count": null,
   "id": "b97c8655-6af7-41b3-a5c0-43355d3bcf0e",
   "metadata": {},
   "outputs": [],
   "source": []
  },
  {
   "cell_type": "code",
   "execution_count": null,
   "id": "5b0463e5-ac25-4110-be87-832904df9bbc",
   "metadata": {},
   "outputs": [],
   "source": []
  },
  {
   "cell_type": "code",
   "execution_count": null,
   "id": "f1366030-1116-4582-8911-cc8b2491a663",
   "metadata": {},
   "outputs": [],
   "source": []
  },
  {
   "cell_type": "code",
   "execution_count": null,
   "id": "1e2aed7f-63bf-404c-bcea-7611c7621514",
   "metadata": {},
   "outputs": [],
   "source": []
  },
  {
   "cell_type": "code",
   "execution_count": null,
   "id": "d2652c08-0f40-443b-8fa2-476a42d32e85",
   "metadata": {},
   "outputs": [],
   "source": []
  },
  {
   "cell_type": "code",
   "execution_count": null,
   "id": "c48a4b9f-4af3-43d6-8834-0a62a7b97384",
   "metadata": {},
   "outputs": [],
   "source": []
  },
  {
   "cell_type": "code",
   "execution_count": null,
   "id": "febc895a-baf6-41b9-9074-427fb997e6a8",
   "metadata": {},
   "outputs": [],
   "source": []
  },
  {
   "cell_type": "code",
   "execution_count": null,
   "id": "f7b9302d-585e-4f83-a270-529ab7b4510d",
   "metadata": {},
   "outputs": [],
   "source": []
  },
  {
   "cell_type": "code",
   "execution_count": null,
   "id": "3e7eb6a1-308a-48db-98ac-33aa3fe7a10a",
   "metadata": {},
   "outputs": [],
   "source": []
  },
  {
   "cell_type": "code",
   "execution_count": null,
   "id": "505db9d8-b166-4bf6-9316-6f33c23f9b29",
   "metadata": {},
   "outputs": [],
   "source": []
  },
  {
   "cell_type": "code",
   "execution_count": null,
   "id": "76e8e0f0-16cb-4e9d-9c32-64698566c0c4",
   "metadata": {},
   "outputs": [],
   "source": []
  },
  {
   "cell_type": "code",
   "execution_count": null,
   "id": "89024fe2-b7c0-43e1-9d26-d7c14934d414",
   "metadata": {},
   "outputs": [],
   "source": []
  },
  {
   "cell_type": "code",
   "execution_count": null,
   "id": "4e5f6804-b57f-4586-8241-a32f3d944b48",
   "metadata": {},
   "outputs": [],
   "source": []
  },
  {
   "cell_type": "code",
   "execution_count": null,
   "id": "e7053f81-7398-4525-b949-8ea9af9f2d7a",
   "metadata": {},
   "outputs": [],
   "source": []
  },
  {
   "cell_type": "code",
   "execution_count": null,
   "id": "a2fad948-0e6c-4c18-9b8b-917725e054c0",
   "metadata": {},
   "outputs": [],
   "source": []
  },
  {
   "cell_type": "code",
   "execution_count": null,
   "id": "d5404741-0ea9-480d-a115-b19a94cb54f4",
   "metadata": {},
   "outputs": [],
   "source": []
  },
  {
   "cell_type": "code",
   "execution_count": null,
   "id": "3c98d979-9179-40b8-af70-cc51e8a80f0d",
   "metadata": {},
   "outputs": [],
   "source": []
  },
  {
   "cell_type": "code",
   "execution_count": null,
   "id": "7ffae204-59b9-4a99-96db-3671ea9d75cf",
   "metadata": {},
   "outputs": [],
   "source": []
  },
  {
   "cell_type": "code",
   "execution_count": null,
   "id": "4eefc556-bdbf-4a49-a1e4-395869db3ed8",
   "metadata": {},
   "outputs": [],
   "source": []
  }
 ],
 "metadata": {
  "kernelspec": {
   "display_name": "Python 3 (ipykernel)",
   "language": "python",
   "name": "python3"
  },
  "language_info": {
   "codemirror_mode": {
    "name": "ipython",
    "version": 3
   },
   "file_extension": ".py",
   "mimetype": "text/x-python",
   "name": "python",
   "nbconvert_exporter": "python",
   "pygments_lexer": "ipython3",
   "version": "3.11.7"
  }
 },
 "nbformat": 4,
 "nbformat_minor": 5
}
